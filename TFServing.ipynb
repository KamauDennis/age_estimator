{
 "cells": [
  {
   "cell_type": "markdown",
   "id": "educated-italic",
   "metadata": {},
   "source": [
    "## Querying TF Serving through the REST API"
   ]
  },
  {
   "cell_type": "code",
   "execution_count": 1,
   "id": "accredited-barrel",
   "metadata": {},
   "outputs": [],
   "source": [
    "import numpy as np\n",
    "import tensorflow as tf\n",
    "from tensorflow import keras"
   ]
  },
  {
   "cell_type": "code",
   "execution_count": 2,
   "id": "recovered-albany",
   "metadata": {},
   "outputs": [],
   "source": [
    "#reading an image filepath and preprocessing it \n",
    "def preprocess(filepath):\n",
    "    img = tf.io.read_file(filepath)\n",
    "    img = tf.io.decode_jpeg(img,channels=3)\n",
    "    img_res = tf.image.resize(img,[200,200])\n",
    "    img_exp = tf.expand_dims(img_res,0)\n",
    "    return img_exp"
   ]
  },
  {
   "cell_type": "code",
   "execution_count": 3,
   "id": "corporate-massage",
   "metadata": {},
   "outputs": [],
   "source": [
    "img_path = 'images.jpeg'\n",
    "X_test = preprocess(img_path)\n",
    "X_lst = X_test.numpy().tolist()"
   ]
  },
  {
   "cell_type": "code",
   "execution_count": 4,
   "id": "separate-dover",
   "metadata": {},
   "outputs": [],
   "source": [
    "import json \n",
    "\n",
    "input_data_json = json.dumps({\n",
    "    \"signature_name\":\"serving_default\",\n",
    "    \"instances\":X_lst\n",
    "})"
   ]
  },
  {
   "cell_type": "code",
   "execution_count": 5,
   "id": "expected-inventory",
   "metadata": {},
   "outputs": [],
   "source": [
    "import requests\n",
    "\n",
    "SERVER_URL = \"http://localhost:8501/v1/models/age_detector_model:predict\"\n",
    "response = requests.post(SERVER_URL,data=input_data_json)\n",
    "response.raise_for_status() #raise an exception incase of an error\n",
    "response = response.json()"
   ]
  },
  {
   "cell_type": "code",
   "execution_count": 6,
   "id": "numerical-means",
   "metadata": {},
   "outputs": [
    {
     "data": {
      "text/plain": [
       "array([[0.  , 0.  , 0.  , 0.  , 0.  , 0.01, 0.  , 0.98]])"
      ]
     },
     "execution_count": 6,
     "metadata": {},
     "output_type": "execute_result"
    }
   ],
   "source": [
    "y_proba = np.array(response[\"predictions\"])\n",
    "y_proba.round(2)"
   ]
  },
  {
   "cell_type": "markdown",
   "id": "active-terrain",
   "metadata": {},
   "source": [
    "## Querying TF Serving through the gRPC API\n"
   ]
  },
  {
   "cell_type": "code",
   "execution_count": 8,
   "id": "southwest-upper",
   "metadata": {},
   "outputs": [],
   "source": [
    "#creating the request\n",
    "from tensorflow_serving.apis.predict_pb2 import PredictRequest\n",
    "\n",
    "request = PredictRequest()\n",
    "request.model_spec.name = model_name\n",
    "request.model_spec.signature_name = 'serving_default'\n",
    "request.inputs['conv2d_input'].CopyFrom(tf.make_tensor_proto(X_test))"
   ]
  },
  {
   "cell_type": "code",
   "execution_count": 9,
   "id": "fuzzy-intake",
   "metadata": {},
   "outputs": [],
   "source": [
    "#sending request to the server\n",
    "import grpc\n",
    "from tensorflow_serving.apis import prediction_service_pb2_grpc\n",
    "\n",
    "channel = grpc.insecure_channel('localhost:8500')\n",
    "predict_service = prediction_service_pb2_grpc.PredictionServiceStub(channel)\n",
    "response = predict_service.Predict(request,timeout=10.0)"
   ]
  },
  {
   "cell_type": "code",
   "execution_count": 10,
   "id": "cardiovascular-modeling",
   "metadata": {},
   "outputs": [],
   "source": [
    "#convert the PredictResponse protocal buffer to a Tensor\n",
    "output_name ='dense'\n",
    "outputs_proto = response.outputs[output_name]\n",
    "y_proba = tf.make_ndarray(outputs_proto)"
   ]
  },
  {
   "cell_type": "code",
   "execution_count": 11,
   "id": "solved-police",
   "metadata": {},
   "outputs": [
    {
     "data": {
      "text/plain": [
       "array([[0.  , 0.  , 0.  , 0.  , 0.  , 0.01, 0.  , 0.98]], dtype=float32)"
      ]
     },
     "execution_count": 11,
     "metadata": {},
     "output_type": "execute_result"
    }
   ],
   "source": [
    "y_proba.round(2)"
   ]
  }
 ],
 "metadata": {
  "kernelspec": {
   "display_name": "Python 3.8.10 64-bit",
   "language": "python",
   "name": "python3"
  },
  "language_info": {
   "codemirror_mode": {
    "name": "ipython",
    "version": 3
   },
   "file_extension": ".py",
   "mimetype": "text/x-python",
   "name": "python",
   "nbconvert_exporter": "python",
   "pygments_lexer": "ipython3",
   "version": "3.8.10"
  },
  "toc": {
   "base_numbering": 1,
   "nav_menu": {},
   "number_sections": true,
   "sideBar": true,
   "skip_h1_title": false,
   "title_cell": "Table of Contents",
   "title_sidebar": "Contents",
   "toc_cell": false,
   "toc_position": {},
   "toc_section_display": true,
   "toc_window_display": false
  },
  "vscode": {
   "interpreter": {
    "hash": "31f2aee4e71d21fbe5cf8b01ff0e069b9275f58929596ceb00d14d90e3e16cd6"
   }
  }
 },
 "nbformat": 4,
 "nbformat_minor": 5
}
